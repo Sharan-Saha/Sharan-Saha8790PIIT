{
 "cells": [
  {
   "cell_type": "code",
   "execution_count": 2,
   "id": "72b10a60-a6fd-4f71-96f5-e3470d05c059",
   "metadata": {},
   "outputs": [
    {
     "name": "stdout",
     "output_type": "stream",
     "text": [
      "Hello World\n"
     ]
    }
   ],
   "source": [
    "print(\"Hello World\")"
   ]
  },
  {
   "cell_type": "code",
   "execution_count": 4,
   "id": "26e06146-3970-497e-91b0-4b4c525aeca4",
   "metadata": {},
   "outputs": [
    {
     "name": "stdout",
     "output_type": "stream",
     "text": [
      "sharan\n"
     ]
    }
   ],
   "source": [
    "student = {\n",
    "    \"name\" : \"sharan\",\n",
    "    \"age\" : 22,\n",
    "    #\"name\" : \"saha\"\n",
    "}\n",
    "print(student[\"name\"])\n",
    "    "
   ]
  },
  {
   "cell_type": "code",
   "execution_count": null,
   "id": "0fc72428-2b72-41a1-a837-6bcad5f0ce87",
   "metadata": {},
   "outputs": [],
   "source": []
  }
 ],
 "metadata": {
  "kernelspec": {
   "display_name": "Python 3 (ipykernel)",
   "language": "python",
   "name": "python3"
  },
  "language_info": {
   "codemirror_mode": {
    "name": "ipython",
    "version": 3
   },
   "file_extension": ".py",
   "mimetype": "text/x-python",
   "name": "python",
   "nbconvert_exporter": "python",
   "pygments_lexer": "ipython3",
   "version": "3.13.5"
  }
 },
 "nbformat": 4,
 "nbformat_minor": 5
}
